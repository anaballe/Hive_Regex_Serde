{
 "cells": [
  {
   "cell_type": "markdown",
   "metadata": {
    "colab_type": "text",
    "id": "ZfiL39OTJ5sR"
   },
   "source": [
    "# Hive assignment 1"
   ]
  },
  {
   "cell_type": "markdown",
   "metadata": {
    "colab_type": "text",
    "id": "VD19-0y3J5sR"
   },
   "source": [
    "The purpose of this task is to create an external table on the posts data of the `stackoverflow.com` website."
   ]
  },
  {
   "cell_type": "markdown",
   "metadata": {
    "colab_type": "text",
    "id": "nKx3tQ4_J5sS"
   },
   "source": [
    "## Step 1. Intro. Creation of the DB"
   ]
  },
  {
   "cell_type": "markdown",
   "metadata": {
    "colab_type": "text",
    "id": "10mBFHfPJ5sS"
   },
   "source": [
    "Let's create the sandbox database where you will complete your assignment.\n",
    "\n",
    "<b>Note!</b> This code shouldn't be in your submission. Please, remove this code from the notebook before submission."
   ]
  },
  {
   "cell_type": "markdown",
   "metadata": {
    "colab_type": "text",
    "id": "NvsrnOe6J5se"
   },
   "source": [
    "**Don't forget to remove this code before submission!**\n"
   ]
  },
  {
   "cell_type": "markdown",
   "metadata": {
    "colab_type": "text",
    "id": "dPEiXPuAJ5sf"
   },
   "source": [
    "## Step 2. Exploration of the dataset"
   ]
  },
  {
   "cell_type": "markdown",
   "metadata": {
    "colab_type": "text",
    "id": "tdzmqWgQJ5sg"
   },
   "source": [
    "Okay, we have created the database. Let's create your own table for users and posts."
   ]
  },
  {
   "cell_type": "markdown",
   "metadata": {
    "colab_type": "text",
    "id": "Li8EZVxtJ5sg"
   },
   "source": [
    "First of all, let's watch at the datasets for `users` which are located at `/data/stackexchange1000/posts` and for `posts` which is located at `/data/stackexchange1000/users`. Print the first three rows of those datasets.\n"
   ]
  },
  {
   "cell_type": "code",
   "execution_count": 1,
   "metadata": {
    "colab": {
     "autoexec": {
      "startup": false,
      "wait_interval": 0
     }
    },
    "colab_type": "code",
    "id": "HBbrpNdIeM6e"
   },
   "outputs": [
    {
     "name": "stdout",
     "output_type": "stream",
     "text": [
      "reporter:status:Reading \t\n",
      "<row Id=\"1394\" PostTypeId=\"2\" ParentId=\"1390\" CreationDate=\"2008-08-04T16:38:03.667\" Score=\"16\" Body=\"&lt;p&gt;Not sure how credible &lt;a href=&quot;http://www.builderau.com.au/program/windows/soa/Getting-started-with-Windows-Server-2008-Core-edition/0,339024644,339288700,00.htm&quot; rel=&quot;nofollow noreferrer&quot;&gt;this source is&lt;/a&gt;, but:&lt;/p&gt;&#xA;&#xA;&lt;blockquote&gt;&#xA;  &lt;p&gt;The Windows Server 2008 Core edition can:&lt;/p&gt;&#xA;  &#xA;  &lt;ul&gt;&#xA;  &lt;li&gt;&lt;p&gt;Run the file server role.&lt;/p&gt;&lt;/li&gt;&#xA;  &lt;li&gt;&lt;p&gt;Run the Hyper-V virtualization server role.&lt;/p&gt;&lt;/li&gt;&#xA;  &lt;li&gt;&lt;p&gt;Run the Directory Services role.&lt;/p&gt;&lt;/li&gt;&#xA;  &lt;li&gt;&lt;p&gt;Run the DHCP server role.&lt;/p&gt;&lt;/li&gt;&#xA;  &lt;li&gt;&lt;p&gt;Run the IIS Web server role.&lt;/p&gt;&lt;/li&gt;&#xA;  &lt;li&gt;&lt;p&gt;Run the DNS server role.&lt;/p&gt;&lt;/li&gt;&#xA;  &lt;li&gt;&lt;p&gt;Run Active Directory Lightweight Directory Services.&lt;/p&gt;&lt;/li&gt;&#xA;  &lt;li&gt;&lt;p&gt;Run the print server role.&lt;/p&gt;&lt;/li&gt;&#xA;  &lt;/ul&gt;&#xA;  &#xA;  &lt;p&gt;The Windows Server 2008 Core edition cannot:&lt;/p&gt;&#xA;  &#xA;  &lt;ul&gt;&#xA;  &lt;li&gt;&lt;p&gt;Run a SQL Server.&lt;/p&gt;&lt;/li&gt;&#xA;  &lt;li&gt;&lt;p&gt;Run an Exchange Server.&lt;/p&gt;&lt;/li&gt;&#xA;  &lt;li&gt;&lt;p&gt;Run Internet Explorer.&lt;/p&gt;&lt;/li&gt;&#xA;  &lt;li&gt;&lt;p&gt;Run Windows Explorer.&lt;/p&gt;&lt;/li&gt;&#xA;  &lt;li&gt;&lt;p&gt;Host a remote desktop session.&lt;/p&gt;&lt;/li&gt;&#xA;  &lt;li&gt;&lt;p&gt;Run MMC snap-in consoles locally.&lt;/p&gt;&lt;/li&gt;&#xA;  &lt;/ul&gt;&#xA;&lt;/blockquote&gt;&#xA;\" OwnerUserId=\"91\" LastEditorUserId=\"1\" LastEditorDisplayName=\"Jeff Atwood\" LastEditDate=\"2008-08-27T13:02:50.273\" LastActivityDate=\"2008-08-27T13:02:50.273\" CommentCount=\"1\" />\t\n",
      "<row Id=\"3543\" PostTypeId=\"2\" ParentId=\"3530\" CreationDate=\"2008-08-06T15:24:00.787\" Score=\"37\" Body=\"&lt;p&gt;from &lt;a href=&quot;http://www.timocracy.com/articles/2008/02/21/calling-invoking-rails-rake-tasks-from-within-ruby-for-testing-try-2&quot; rel=&quot;nofollow noreferrer&quot;&gt;timocracy.com&lt;/a&gt;:&lt;/p&gt;&#xA;&#xA;&lt;pre&gt;&lt;code&gt;require 'rake'&#xA;require 'rake/rdoctask'&#xA;require 'rake/testtask'&#xA;require 'tasks/rails'&#xA;&#xA;def capture_stdout&#xA;  s = StringIO.new&#xA;  oldstdout = $stdout&#xA;  $stdout = s&#xA;  yield&#xA;  s.string&#xA;ensure&#xA;  $stdout = oldstdout&#xA;end&#xA;&#xA;Rake.application.rake_require '../../lib/tasks/metric_fetcher'&#xA;results = capture_stdout {Rake.application['metric_fetcher'].invoke}&#xA;&lt;/code&gt;&lt;/pre&gt;&#xA;\" OwnerUserId=\"399\" LastActivityDate=\"2008-08-06T15:24:00.787\" CommentCount=\"3\" />\t\n"
     ]
    },
    {
     "name": "stderr",
     "output_type": "stream",
     "text": [
      "SLF4J: Failed to load class \"org.slf4j.impl.StaticLoggerBinder\".\n",
      "SLF4J: Defaulting to no-operation (NOP) logger implementation\n",
      "SLF4J: See http://www.slf4j.org/codes.html#StaticLoggerBinder for further details.\n",
      "cat: Unable to write to output stream.\n"
     ]
    }
   ],
   "source": [
    "%%bash\n",
    "hdfs dfs -cat /data/stackexchange1000/posts/part-00000 | head -n 3 "
   ]
  },
  {
   "cell_type": "code",
   "execution_count": 2,
   "metadata": {
    "colab": {
     "autoexec": {
      "startup": false,
      "wait_interval": 0
     }
    },
    "colab_type": "code",
    "id": "bRiLxzoReZ7o"
   },
   "outputs": [
    {
     "name": "stdout",
     "output_type": "stream",
     "text": [
      "reporter:status:Reading \t\n",
      "<row Id=\"756\" Reputation=\"2358\" CreationDate=\"2008-08-08T15:31:50.013\" DisplayName=\"Simon Gillbee\" LastAccessDate=\"2016-12-09T15:38:03.453\" WebsiteUrl=\"http://simon.gillbee.com\" Location=\"Pearland, TX\" AboutMe=\"&lt;p&gt;Personally, I am a husband, step-father, grandfather, Christ-worshiper, singer, worship leader, computer programmer, reader, game player, kite flyer, generally all around fun guy (or that fungi?).&lt;/p&gt;&#xA;&#xA;&lt;p&gt;Professionally, I've been developing both commercial and proprietary systems for the last 20 years. These days I'm primarily writing enterprise-scale client and server software using .NET and loving it!&lt;/p&gt;&#xA;&#xA;&lt;h1&gt;SOreadytohelp&lt;/h1&gt;&#xA;\" Views=\"478\" UpVotes=\"352\" DownVotes=\"25\" Age=\"45\" AccountId=\"587\" />\t\n",
      "<row Id=\"2050\" Reputation=\"4177\" CreationDate=\"2008-08-20T00:32:49.217\" DisplayName=\"Eric Platon\" LastAccessDate=\"2016-12-10T22:24:27.217\" WebsiteUrl=\"\" Location=\"Tokyo, Japan\" AboutMe=\"\" Views=\"387\" UpVotes=\"1045\" DownVotes=\"6\" Age=\"46\" AccountId=\"1533\" />\t\n"
     ]
    },
    {
     "name": "stderr",
     "output_type": "stream",
     "text": [
      "SLF4J: Failed to load class \"org.slf4j.impl.StaticLoggerBinder\".\n",
      "SLF4J: Defaulting to no-operation (NOP) logger implementation\n",
      "SLF4J: See http://www.slf4j.org/codes.html#StaticLoggerBinder for further details.\n",
      "cat: Unable to write to output stream.\n"
     ]
    }
   ],
   "source": [
    "%%bash\n",
    "hdfs dfs -cat /data/stackexchange1000/users/part-00000 | head -n 3"
   ]
  },
  {
   "cell_type": "markdown",
   "metadata": {
    "colab_type": "text",
    "id": "cGrOQYgqJ5sn"
   },
   "source": [
    "As you can see, those rows contain some information about posts and users in XML format."
   ]
  },
  {
   "cell_type": "markdown",
   "metadata": {
    "colab_type": "text",
    "id": "AoNccKriJ5sp"
   },
   "source": [
    "<b>Question.</b> Which fields for users and posts do you think are the most important for the analysis? And for joining tables? "
   ]
  },
  {
   "cell_type": "markdown",
   "metadata": {
    "colab_type": "text",
    "id": "1mWC_LHQJ5sr"
   },
   "source": [
    "<h3><b>Please, check your answer with this information!</b></h3>"
   ]
  },
  {
   "cell_type": "markdown",
   "metadata": {
    "colab_type": "text",
    "id": "3hcl3lLyJ5sq"
   },
   "source": [
    "So, the lines not started with the \"row\" tags should be ignored. The valid row contains the following fields and their order is not defined:\n",
    "\n",
    "* Id (integer) - id of the post\n",
    "* PostTypeId (integer: 1 or 2) - 1 for questions, 2 for answers\n",
    "* CreationDate (date) - post creation date in the format \"YYYY-MM-DDTHH:MM:SS.ms\"\n",
    "* Tags (string, optional) - list of post tags, each tag is wrapped with html entities `&lt;` and `&gt;`\n",
    "* OwnerUserId (integer, optional) - user id of the post's author\n",
    "* ParentId (integer, optional) - for answers - id of the question\n",
    "* Score (integer) - score (votes) of a question or an answer, can be negative (!)\n",
    "* FavoriteCount (integer, optional) - how many times the question was added in the favorites"
   ]
  },
  {
   "cell_type": "markdown",
   "metadata": {
    "colab_type": "text",
    "id": "pmQ2vtOVJ5sr"
   },
   "source": [
    "The second part of the dataset contains StackOverflow users.\n",
    "\n",
    "The fields are the following and their order is also not defined:\n",
    "\n",
    "* Id (integer) - user id\n",
    "* Reputation (integer) - user's reputation\n",
    "* CreationDate (string) - creation date in the format \"YYYY-MM-DDTHH:MM:SS.ms\"\n",
    "* DisplayName (string) - user's name\n",
    "* Location (string, options) - user's country\n",
    "* Age (integer, optional) - user's age"
   ]
  },
  {
   "cell_type": "markdown",
   "metadata": {
    "colab_type": "text",
    "id": "Na2THNHnJ5ss"
   },
   "source": [
    "## Step 3. Train your regexp skills"
   ]
  },
  {
   "cell_type": "markdown",
   "metadata": {
    "colab_type": "text",
    "id": "pxFZQpxIJ5st"
   },
   "source": [
    "In this step you will find out how to parse information for complex rows! You will try to create some examples for parsing! There are some general rules for parsing:"
   ]
  },
  {
   "cell_type": "markdown",
   "metadata": {
    "colab_type": "text",
    "id": "YRaJBzTeJ5su"
   },
   "source": [
    "1. To create a regular expression, which describes strings containing two patterns, where the order of the patterns is not defined use the following so-called ‘positive lookahead assertion’ with `?=` group modifier. For example, both strings “Washington Irving” and “Irving Washington” match the pattern:\n",
    "```\n",
    "(?=.*Washington)(?=.*Irving)\n",
    "```.\n",
    "2. To capture groups use round brackets. So, the pattern: `(?=.*(Washington))(?=.*(Irving))` captures `Washington` and `Irving` from both strings: \"William Arthur Irving Washington was an English first-class Cricketer\" and: “Washington Irving was an American writer”.\n",
    "3. Use `\\b` to specify boundaries of words and increase accuracy of your pattern. For example: pattern `(?=.*\\bID=(\\d+))(?=.*\\bUserID=(\\d+))` captures `1` and `2` from the string `ID=1 UserID=2`, whereas pattern without `\\b`: `(?=.*ID=(\\d+))(?=.*UserID=(\\d+))` returns the wrong groups: `2` and `2`.\n",
    "4. In Hive pattern for the external table in SERDEPROPERTIES `input.regex` should describe the whole input string, add `.*` at the end of the pattern.\n",
    "5. Don't forget that for the beginning of string should also be covered. That's why use the pattern `.*?` for lazy initialization of future patterns."
   ]
  },
  {
   "cell_type": "markdown",
   "metadata": {
    "colab_type": "text",
    "id": "cRobnWBYJ5sv"
   },
   "source": [
    "To sum up, you can create your first regex for parsing Id from posts!"
   ]
  },
  {
   "cell_type": "markdown",
   "metadata": {
    "colab_type": "text",
    "id": "fA7LBThaJ5sv"
   },
   "source": [
    "<b>Question!</b> What will be your first regex for parsing Id from the posts? Don't forget to add steps 4 and 5!"
   ]
  },
  {
   "cell_type": "markdown",
   "metadata": {
    "colab_type": "text",
    "id": "jAwyKE9EJ5sw"
   },
   "source": [
    "<div class=\"panel-group\">\n",
    "  <div class=\"panel panel-default\">\n",
    "    <div class=\"panel-heading\">\n",
    "      <h4 class=\"panel-title\">\n",
    "        <a data-toggle=\"collapse\" href=\"#collapse-answer\">Check your answer!</a>\n",
    "      </h4>\n",
    "    </div>\n",
    "    <div id=\"collapse-answer\" class=\"panel-collapse collapse\">\n",
    "      <div class=\"panel-body\">The correct answer is `\".*?(?=.*\\\\bId=\\\"(\\\\d+)\\\").*\"` </div>\n",
    "    </div>\n",
    "  </div>\n",
    "</div>"
   ]
  },
  {
   "cell_type": "markdown",
   "metadata": {
    "colab_type": "text",
    "id": "pirvGNs1J5sx"
   },
   "source": [
    "Let's create the first external table with one row which contains only `Id` field. Let's name it `posts_external_only_id`.\n",
    "You can watch the lecture for the SerDe format: <a href=\"https://www.coursera.org/learn/big-data-analysis/lecture/wAGe6/hive-analytics-regexserde-views\">Serde Format</a> and <a href=\"/notebooks/demos/course02_week02-Demo_submission.ipynb#2.-Creation-the-external-table\">creation of external table</a> tutorial."
   ]
  },
  {
   "cell_type": "code",
   "execution_count": 3,
   "metadata": {
    "colab": {
     "autoexec": {
      "startup": false,
      "wait_interval": 0
     }
    },
    "colab_type": "code",
    "id": "bMdai9W-J5sx"
   },
   "outputs": [
    {
     "name": "stdout",
     "output_type": "stream",
     "text": [
      "Writing demo_example.hql\n"
     ]
    }
   ],
   "source": [
    "%%writefile demo_example.hql\n",
    "\n",
    "-- adding necessary JARs and including database\n",
    "ADD JAR /opt/cloudera/parcels/CDH/lib/hive/lib/hive-contrib.jar;\n",
    "ADD JAR /opt/cloudera/parcels/CDH/lib/hive/lib/hive-serde.jar;\n",
    "DROP DATABASE IF EXISTS demodb CASCADE;\n",
    "CREATE DATABASE demodb LOCATION '/data/stackexchange1000';\n",
    "USE demodb;\n",
    "DROP TABLE IF EXISTS posts_external_only_id;\n",
    "CREATE EXTERNAL TABLE posts_external_only_id(\n",
    "Id STRING \n",
    ")\n",
    "ROW FORMAT SERDE 'org.apache.hadoop.hive.serde2.RegexSerDe'\n",
    "WITH SERDEPROPERTIES(\n",
    "\"input.regex\" = \".*?(?=.*\\\\bId=\\\"(\\\\d+)\\\").*\"\n",
    ")\n",
    "STORED AS TEXTFILE\n",
    "LOCATION '/data/stackexchange1000/posts'\n",
    "TBLPROPERTIES (\"skip.header.line.count\"=\"1\");"
   ]
  },
  {
   "cell_type": "markdown",
   "metadata": {
    "colab_type": "text",
    "id": "2lNqp7uWJ5s9"
   },
   "source": [
    "Hooray! You have created your first table. Let us watch for this table!"
   ]
  },
  {
   "cell_type": "code",
   "execution_count": 5,
   "metadata": {
    "colab": {
     "autoexec": {
      "startup": false,
      "wait_interval": 0
     }
    },
    "colab_type": "code",
    "id": "Z4m1NcvkJ5s9",
    "outputId": "fb1d255e-e8e6-495d-bdb9-aef62dce66d7"
   },
   "outputs": [
    {
     "name": "stdout",
     "output_type": "stream",
     "text": [
      "Writing describe.hql\n"
     ]
    }
   ],
   "source": [
    "%%writefile describe.hql\n",
    "\n",
    "ADD JAR /opt/cloudera/parcels/CDH/lib/hive/lib/hive-contrib.jar;\n",
    "\n",
    "USE demodb;\n",
    "DESCRIBE posts_external_only_id;"
   ]
  },
  {
   "cell_type": "markdown",
   "metadata": {
    "colab_type": "text",
    "id": "kuvkMUIqJ5tE"
   },
   "source": [
    "Let's see that the data is  correctly parsed. For this case, take a select query that chooses for us first 10 rows"
   ]
  },
  {
   "cell_type": "code",
   "execution_count": 7,
   "metadata": {
    "colab": {
     "autoexec": {
      "startup": false,
      "wait_interval": 0
     }
    },
    "colab_type": "code",
    "id": "ZkONpnbTJ5tF"
   },
   "outputs": [
    {
     "name": "stdout",
     "output_type": "stream",
     "text": [
      "Writing my_first_select.hql\n"
     ]
    }
   ],
   "source": [
    "%%writefile my_first_select.hql\n",
    "use demodb;\n",
    "SELECT *  FROM posts_external_only_id LIMIT 10;"
   ]
  },
  {
   "cell_type": "markdown",
   "metadata": {
    "colab_type": "text",
    "id": "xFL5R6oTJ5tO"
   },
   "source": [
    "How many posts are there in the dataset? Don't forget to clear the `NULL` values!"
   ]
  },
  {
   "cell_type": "code",
   "execution_count": 9,
   "metadata": {
    "colab": {
     "autoexec": {
      "startup": false,
      "wait_interval": 0
     }
    },
    "colab_type": "code",
    "id": "d0gg-zzyJ5tO"
   },
   "outputs": [
    {
     "name": "stdout",
     "output_type": "stream",
     "text": [
      "Writing how_many_posts.hql\n"
     ]
    }
   ],
   "source": [
    "%%writefile how_many_posts.hql\n",
    "use demodb;\n",
    "select count(1) from posts_external_only_id where Id is not NULL;"
   ]
  },
  {
   "cell_type": "markdown",
   "metadata": {
    "colab_type": "text",
    "id": "qjP7lEGZJ5tW"
   },
   "source": [
    "Try to parse different fields: for example, day and month of creation date. Don't forget that Hive will accept values for the capturing group in the lookahead. "
   ]
  },
  {
   "cell_type": "markdown",
   "metadata": {
    "colab_type": "text",
    "id": "9Ai72gzOJ5tX"
   },
   "source": [
    "Now you are ready to complete your task! Before this you can check your regular expression for parsing!"
   ]
  },
  {
   "cell_type": "code",
   "execution_count": 12,
   "metadata": {
    "colab": {
     "autoexec": {
      "startup": false,
      "wait_interval": 0
     }
    },
    "colab_type": "code",
    "id": "RK4ni3GdJ5tY"
   },
   "outputs": [],
   "source": [
    "import re"
   ]
  },
  {
   "cell_type": "code",
   "execution_count": 13,
   "metadata": {
    "colab": {
     "autoexec": {
      "startup": false,
      "wait_interval": 0
     }
    },
    "colab_type": "code",
    "id": "yT8UyDAKJ5tZ"
   },
   "outputs": [],
   "source": [
    "CHECK_ROW = '<row Id=\"1394\" PostTypeId=\"2\" ParentId=\"1390\" CreationDate=\"2008-08-04T16:38:03.667\" Score=\"16\" Body=\"&lt;p&gt;Not sure how credible &lt;a href=&quot;http://www.builderau.com.au/program/windows/soa/Getting-started-with-Windows-Server-2008-Core-edition/0,339024644,339288700,00.htm&quot; rel=&quot;nofollow noreferrer&quot;&gt;this source is&lt;/a&gt;, but:&lt;/p&gt;&#xA;&#xA;&lt;blockquote&gt;&#xA;  &lt;p&gt;The Windows Server 2008 Core edition can:&lt;/p&gt;&#xA;  &#xA;  &lt;ul&gt;&#xA;  &lt;li&gt;&lt;p&gt;Run the file server role.&lt;/p&gt;&lt;/li&gt;&#xA;  &lt;li&gt;&lt;p&gt;Run the Hyper-V virtualization server role.&lt;/p&gt;&lt;/li&gt;&#xA;  &lt;li&gt;&lt;p&gt;Run the Directory Services role.&lt;/p&gt;&lt;/li&gt;&#xA;  &lt;li&gt;&lt;p&gt;Run the DHCP server role.&lt;/p&gt;&lt;/li&gt;&#xA;  &lt;li&gt;&lt;p&gt;Run the IIS Web server role.&lt;/p&gt;&lt;/li&gt;&#xA;  &lt;li&gt;&lt;p&gt;Run the DNS server role.&lt;/p&gt;&lt;/li&gt;&#xA;  &lt;li&gt;&lt;p&gt;Run Active Directory Lightweight Directory Services.&lt;/p&gt;&lt;/li&gt;&#xA;  &lt;li&gt;&lt;p&gt;Run the print server role.&lt;/p&gt;&lt;/li&gt;&#xA;  &lt;/ul&gt;&#xA;  &#xA;  &lt;p&gt;The Windows Server 2008 Core edition cannot:&lt;/p&gt;&#xA;  &#xA;  &lt;ul&gt;&#xA;  &lt;li&gt;&lt;p&gt;Run a SQL Server.&lt;/p&gt;&lt;/li&gt;&#xA;  &lt;li&gt;&lt;p&gt;Run an Exchange Server.&lt;/p&gt;&lt;/li&gt;&#xA;  &lt;li&gt;&lt;p&gt;Run Internet Explorer.&lt;/p&gt;&lt;/li&gt;&#xA;  &lt;li&gt;&lt;p&gt;Run Windows Explorer.&lt;/p&gt;&lt;/li&gt;&#xA;  &lt;li&gt;&lt;p&gt;Host a remote desktop session.&lt;/p&gt;&lt;/li&gt;&#xA;  &lt;li&gt;&lt;p&gt;Run MMC snap-in consoles locally.&lt;/p&gt;&lt;/li&gt;&#xA;  &lt;/ul&gt;&#xA;&lt;/blockquote&gt;&#xA;\" OwnerUserId=\"91\" LastEditorUserId=\"1\" LastEditorDisplayName=\"Jeff Atwood\" LastEditDate=\"2008-08-27T13:02:50.273\" LastActivityDate=\"2008-08-27T13:02:50.273\" CommentCount=\"1\" />'"
   ]
  },
  {
   "cell_type": "code",
   "execution_count": 14,
   "metadata": {
    "colab": {
     "autoexec": {
      "startup": false,
      "wait_interval": 0
     }
    },
    "colab_type": "code",
    "id": "CGLH3FM_J5tb"
   },
   "outputs": [],
   "source": [
    "CHECK_REGEX = '^<row.*?(?=.*\\\\bId=\\\"(\\\\d+)\\\")(?=.*\\\\bPostTypeId=\\\"(\\\\d+)\\\")(?=.*\\\\bCreationDate=\\\"([^\"]*)\\\")(?=.*\\\\bTags=\\\"([^\"]*)\\\")?(?=.*\\\\bOwnerUserId=\\\"(\\\\d+)\\\")?(?=.*\\\\bParentId=\\\"(\\\\d+)\\\")?(?=.*\\\\bScore=\\\"(-?\\\\d+)\\\")(?=.*\\\\bFavoriteCount=\\\"(\\\\d+)\\\")?.*$'"
   ]
  },
  {
   "cell_type": "code",
   "execution_count": 15,
   "metadata": {
    "colab": {
     "autoexec": {
      "startup": false,
      "wait_interval": 0
     }
    },
    "colab_type": "code",
    "id": "P8ZiiwbqJ5tf"
   },
   "outputs": [],
   "source": [
    "result = re.match(CHECK_REGEX, CHECK_ROW)"
   ]
  },
  {
   "cell_type": "code",
   "execution_count": 16,
   "metadata": {
    "colab": {
     "autoexec": {
      "startup": false,
      "wait_interval": 0
     }
    },
    "colab_type": "code",
    "id": "lKWMRzJNJ5ti"
   },
   "outputs": [],
   "source": [
    "# Sanity check\n",
    "assert result.group(0) == CHECK_ROW"
   ]
  },
  {
   "cell_type": "code",
   "execution_count": 17,
   "metadata": {
    "colab": {
     "autoexec": {
      "startup": false,
      "wait_interval": 0
     }
    },
    "colab_type": "code",
    "id": "JeTfyTUwJ5tk"
   },
   "outputs": [
    {
     "name": "stdout",
     "output_type": "stream",
     "text": [
      "('1394', '2', '2008-08-04T16:38:03.667', None, '91', '1390', '16', None)\n"
     ]
    }
   ],
   "source": [
    "# Check that your groups are correct\n",
    "print(result.groups())"
   ]
  },
  {
   "cell_type": "markdown",
   "metadata": {
    "colab_type": "text",
    "id": "agtKfzx2J5tm"
   },
   "source": [
    "## Step 4. Complete the assignment"
   ]
  },
  {
   "cell_type": "code",
   "execution_count": 18,
   "metadata": {
    "colab": {
     "autoexec": {
      "startup": false,
      "wait_interval": 0
     }
    },
    "colab_type": "code",
    "id": "jRdQeLwkJ5tn"
   },
   "outputs": [
    {
     "name": "stdout",
     "output_type": "stream",
     "text": [
      "Writing task1_create_external_table.hql\n"
     ]
    }
   ],
   "source": [
    "%%writefile task1_create_external_table.hql\n",
    "USE demodb;\n",
    "DROP TABLE IF EXISTS posts_sample_external;\n",
    "CREATE EXTERNAL TABLE  posts_sample_external(\n",
    "Id INT,\n",
    "PostTypeId INT,\n",
    "CreationDate STRING,\n",
    "Tags STRING,\n",
    "OwnerUserId INT,\n",
    "ParentId INT,\n",
    "Score INT,\n",
    "FavoriteCount INT\n",
    ")\n",
    "ROW FORMAT\n",
    "SERDE 'org.apache.hadoop.hive.serde2.RegexSerDe'\n",
    "WITH SERDEPROPERTIES (\n",
    "\"input.regex\" = '^<row.*?(?=.*\\\\bId=\\\"(\\\\d+)\\\")(?=.*\\\\bPostTypeId=\\\"(\\\\d+)\\\")(?=.*\\\\bCreationDate=\\\"([^\"]*)\\\")(?=.*\\\\bTags=\\\"([^\"]*)\\\")?(?=.*\\\\bOwnerUserId=\\\"(\\\\d+)\\\")?(?=.*\\\\bParentId=\\\"(\\\\d+)\\\")?(?=.*\\\\bScore=\\\"(-?\\\\d+)\\\")(?=.*\\\\bFavoriteCount=\\\"(\\\\d+)\\\")?.*$',\n",
    "      \"input.regex.case.insensitive\" = 'true'\n",
    ")\n",
    "STORED AS TEXTFILE\n",
    "LOCATION '/data/stackexchange1000/posts';\n",
    "    "
   ]
  },
  {
   "cell_type": "markdown",
   "metadata": {
    "colab_type": "text",
    "id": "XaImIBNKJ5ts"
   },
   "source": [
    "Make sure that you have created your table correctly. Select the first 10 posts from the dataset."
   ]
  },
  {
   "cell_type": "code",
   "execution_count": 20,
   "metadata": {
    "colab": {
     "autoexec": {
      "startup": false,
      "wait_interval": 0
     }
    },
    "colab_type": "code",
    "id": "2LdLWs-cJ5tt"
   },
   "outputs": [
    {
     "name": "stdout",
     "output_type": "stream",
     "text": [
      "Writing task1_check_select.hql\n"
     ]
    }
   ],
   "source": [
    "%%writefile task1_check_select.hql\n",
    "use demodb;\n",
    "SELECT * FROM posts_sample_external LIMIT 10;"
   ]
  },
  {
   "cell_type": "markdown",
   "metadata": {
    "colab_type": "text",
    "id": "dqfA8StqJ5tx"
   },
   "source": [
    "Create managed table `posts_sample`. Create the partition by the month and by the year. "
   ]
  },
  {
   "cell_type": "code",
   "execution_count": 22,
   "metadata": {
    "colab": {
     "autoexec": {
      "startup": false,
      "wait_interval": 0
     }
    },
    "colab_type": "code",
    "id": "0N7DS8HaJ5tx"
   },
   "outputs": [
    {
     "name": "stdout",
     "output_type": "stream",
     "text": [
      "Writing task1_create_managed_table.hql\n"
     ]
    }
   ],
   "source": [
    "%%writefile task1_create_managed_table.hql\n",
    "USE demodb;\n",
    "DROP TABLE IF EXISTS posts_sample;\n",
    "CREATE TABLE  posts_sample(\n",
    "    Id INT,\n",
    "    PostTypeId  TINYINT,\n",
    "    CreationDate STRING,\n",
    "    OwnerUserId INT,\n",
    "    ParentId INT,\n",
    "    Score INT,\n",
    "    FavoriteCount INT,\n",
    "    Tags array <string>\n",
    ")\n",
    "PARTITIONED BY ( \n",
    "  year string, \n",
    "  month string\n",
    ")\n",
    "STORED AS TEXTFILE\n",
    "LOCATION '/user/jovyan/task1';"
   ]
  },
  {
   "cell_type": "markdown",
   "metadata": {
    "colab_type": "text",
    "id": "YUNkq4SXJ5t0"
   },
   "source": [
    "Populate data from the table `posts_sample_external` to the table `posts_sample`. Don't forget about the partitioning rules!"
   ]
  },
  {
   "cell_type": "code",
   "execution_count": 24,
   "metadata": {
    "colab": {
     "autoexec": {
      "startup": false,
      "wait_interval": 0
     }
    },
    "colab_type": "code",
    "id": "HdCM4rS7J5t0"
   },
   "outputs": [
    {
     "name": "stdout",
     "output_type": "stream",
     "text": [
      "Writing task1_insert_table.hql\n"
     ]
    }
   ],
   "source": [
    "%%writefile task1_insert_table.hql\n",
    "USE demodb;\n",
    "SET hive.exec.dynamic.partition=true; \n",
    "SET hive.exec.dynamic.partition.mode=nonstrict;\n",
    "\n",
    "INSERT OVERWRITE TABLE posts_sample\n",
    "PARTITION (year, month)\n",
    "SELECT\n",
    "    Id,\n",
    "    PostTypeId,\n",
    "    CreationDate,\n",
    "    OwnerUserId,\n",
    "    ParentId,\n",
    "    Score,\n",
    "    FavoriteCount,\n",
    "    split(regexp_replace(Tags, '(&lt\\;|&gt\\;$)', ''), '&gt\\;') AS Tags,\n",
    "    regexp_extract(CreationDate, '^(\\\\d{4})', 1) AS year,\n",
    "    regexp_extract(CreationDate, '^(\\\\d{4}-\\\\d{2})', 1) AS month\n",
    "FROM \n",
    "    posts_sample_external\n",
    "WHERE\n",
    "    Id IS NOT NULL AND CreationDate IS NOT NULL;"
   ]
  },
  {
   "cell_type": "markdown",
   "metadata": {
    "colab_type": "text",
    "id": "_QZWORJwJ5t4"
   },
   "source": [
    "Make sure that your table contains appropriate data about posts"
   ]
  },
  {
   "cell_type": "code",
   "execution_count": 26,
   "metadata": {
    "colab": {
     "autoexec": {
      "startup": false,
      "wait_interval": 0
     }
    },
    "colab_type": "code",
    "id": "1ySBr38iJ5t7"
   },
   "outputs": [
    {
     "name": "stdout",
     "output_type": "stream",
     "text": [
      "Writing task1_watch_new_table.hql\n"
     ]
    }
   ],
   "source": [
    "%%writefile task1_watch_new_table.hql\n",
    "use demodb;\n",
    "select * from posts_sample;"
   ]
  },
  {
   "cell_type": "markdown",
   "metadata": {
    "colab_type": "text",
    "id": "6qpvRyrvJ5t_"
   },
   "source": [
    "Take the third row of the dataset in the ascending order for the posts (firstly by year, after that by month)"
   ]
  },
  {
   "cell_type": "code",
   "execution_count": 28,
   "metadata": {
    "colab": {
     "autoexec": {
      "startup": false,
      "wait_interval": 0
     }
    },
    "colab_type": "code",
    "id": "IptrKDK8J5t_"
   },
   "outputs": [
    {
     "name": "stdout",
     "output_type": "stream",
     "text": [
      "Writing task1_result.hql\n"
     ]
    }
   ],
   "source": [
    "%%writefile task1_result.hql\n",
    "ADD JAR /opt/cloudera/parcels/CDH/lib/hive/lib/hive-contrib.jar;\n",
    "\n",
    "USE demodb;\n",
    "\n",
    "SELECT\n",
    "    concat_ws(\"\\t\", year, concat_ws(\"-\", year, month), lines_count)\n",
    "FROM (\n",
    "    SELECT\n",
    "        string(year) as year\n",
    "        ,string(month) as month\n",
    "        ,string(lines_count) as lines_count\n",
    "        ,ROW_NUMBER() OVER (ORDER BY year, month) as rownum\n",
    "    FROM (\n",
    "        SELECT year, month, COUNT(id) as lines_count\n",
    "        FROM posts_sample\n",
    "        GROUP BY year, month\n",
    "    ) t1\n",
    ") t2\n",
    "WHERE rownum = 3;"
   ]
  },
  {
   "cell_type": "markdown",
   "metadata": {
    "colab_type": "text",
    "id": "FJTsCVTkJ5uC"
   },
   "source": [
    "## Step 5. Submission part. Do not touch!! And simple run all cells below!"
   ]
  },
  {
   "cell_type": "markdown",
   "metadata": {
    "colab_type": "text",
    "id": "k90P-CwSJ5uC"
   },
   "source": [
    "Copy your notebook from the steps <a href=\"#Step-4.-Complete-the-assignment\">Step 4</a> and <a href=\"#Step-5.-Submission-part.-Do-not-touch!!-And-simple-run-all-cells-below!\">Step 5</a> to the new notebook. Run all the cells! And submit the copied notebook!"
   ]
  },
  {
   "cell_type": "code",
   "execution_count": 30,
   "metadata": {
    "colab": {
     "autoexec": {
      "startup": false,
      "wait_interval": 0
     }
    },
    "colab_type": "code",
    "id": "76fguZmgJ5uD"
   },
   "outputs": [],
   "source": [
    "!cat task1_create_external_table.hql > task1.hql\n",
    "!cat task1_create_managed_table.hql >> task1.hql\n",
    "!cat task1_insert_table.hql >> task1.hql\n",
    "!cat task1_result.hql >> task1.hql"
   ]
  },
  {
   "cell_type": "markdown",
   "metadata": {
    "colab_type": "text",
    "id": "KK3zjw7EJ5uF"
   },
   "source": [
    "Take a look at your submission query!"
   ]
  },
  {
   "cell_type": "code",
   "execution_count": 31,
   "metadata": {
    "colab": {
     "autoexec": {
      "startup": false,
      "wait_interval": 0
     }
    },
    "colab_type": "code",
    "id": "CLawbwF4J5uG"
   },
   "outputs": [
    {
     "name": "stdout",
     "output_type": "stream",
     "text": [
      "USE demodb;\r\n",
      "DROP TABLE IF EXISTS posts_sample_external;\r\n",
      "CREATE EXTERNAL TABLE  posts_sample_external(\r\n",
      "Id INT,\r\n",
      "PostTypeId INT,\r\n",
      "CreationDate STRING,\r\n",
      "Tags STRING,\r\n",
      "OwnerUserId INT,\r\n",
      "ParentId INT,\r\n",
      "Score INT,\r\n",
      "FavoriteCount INT\r\n",
      ")\r\n",
      "ROW FORMAT\r\n",
      "SERDE 'org.apache.hadoop.hive.serde2.RegexSerDe'\r\n",
      "WITH SERDEPROPERTIES (\r\n",
      "\"input.regex\" = '^<row.*?(?=.*\\\\bId=\\\"(\\\\d+)\\\")(?=.*\\\\bPostTypeId=\\\"(\\\\d+)\\\")(?=.*\\\\bCreationDate=\\\"([^\"]*)\\\")(?=.*\\\\bTags=\\\"([^\"]*)\\\")?(?=.*\\\\bOwnerUserId=\\\"(\\\\d+)\\\")?(?=.*\\\\bParentId=\\\"(\\\\d+)\\\")?(?=.*\\\\bScore=\\\"(-?\\\\d+)\\\")(?=.*\\\\bFavoriteCount=\\\"(\\\\d+)\\\")?.*$',\r\n",
      "      \"input.regex.case.insensitive\" = 'true'\r\n",
      ")\r\n",
      "STORED AS TEXTFILE\r\n",
      "LOCATION '/data/stackexchange1000/posts';\r\n",
      "    USE demodb;\r\n",
      "DROP TABLE IF EXISTS posts_sample;\r\n",
      "CREATE TABLE  posts_sample(\r\n",
      "    Id INT,\r\n",
      "    PostTypeId  TINYINT,\r\n",
      "    CreationDate STRING,\r\n",
      "    OwnerUserId INT,\r\n",
      "    ParentId INT,\r\n",
      "    Score INT,\r\n",
      "    FavoriteCount INT,\r\n",
      "    Tags array <string>\r\n",
      ")\r\n",
      "PARTITIONED BY ( \r\n",
      "  year string, \r\n",
      "  month string\r\n",
      ")\r\n",
      "STORED AS TEXTFILE\r\n",
      "LOCATION '/user/jovyan/task1';USE demodb;\r\n",
      "SET hive.exec.dynamic.partition=true; \r\n",
      "SET hive.exec.dynamic.partition.mode=nonstrict;\r\n",
      "\r\n",
      "INSERT OVERWRITE TABLE posts_sample\r\n",
      "PARTITION (year, month)\r\n",
      "SELECT\r\n",
      "    Id,\r\n",
      "    PostTypeId,\r\n",
      "    CreationDate,\r\n",
      "    OwnerUserId,\r\n",
      "    ParentId,\r\n",
      "    Score,\r\n",
      "    FavoriteCount,\r\n",
      "    split(regexp_replace(Tags, '(&lt\\;|&gt\\;$)', ''), '&gt\\;') AS Tags,\r\n",
      "    regexp_extract(CreationDate, '^(\\\\d{4})', 1) AS year,\r\n",
      "    regexp_extract(CreationDate, '^(\\\\d{4}-\\\\d{2})', 1) AS month\r\n",
      "FROM \r\n",
      "    posts_sample_external\r\n",
      "WHERE\r\n",
      "    Id IS NOT NULL AND CreationDate IS NOT NULL;ADD JAR /opt/cloudera/parcels/CDH/lib/hive/lib/hive-contrib.jar;\r\n",
      "\r\n",
      "USE demodb;\r\n",
      "\r\n",
      "SELECT\r\n",
      "    concat_ws(\"\\t\", year, concat_ws(\"-\", year, month), lines_count)\r\n",
      "FROM (\r\n",
      "    SELECT\r\n",
      "        string(year) as year\r\n",
      "        ,string(month) as month\r\n",
      "        ,string(lines_count) as lines_count\r\n",
      "        ,ROW_NUMBER() OVER (ORDER BY year, month) as rownum\r\n",
      "    FROM (\r\n",
      "        SELECT year, month, COUNT(id) as lines_count\r\n",
      "        FROM posts_sample\r\n",
      "        GROUP BY year, month\r\n",
      "    ) t1\r\n",
      ") t2\r\n",
      "WHERE rownum = 3;"
     ]
    }
   ],
   "source": [
    "!cat task1.hql"
   ]
  },
  {
   "cell_type": "code",
   "execution_count": 32,
   "metadata": {
    "colab": {
     "autoexec": {
      "startup": false,
      "wait_interval": 0
     }
    },
    "colab_type": "code",
    "id": "GGO0BjtzJ5uI"
   },
   "outputs": [
    {
     "data": {
      "application/javascript": [
       "\n",
       "$(document).ready(function() {\n",
       "    console.log('Ready');\n",
       "    \n",
       "    \n",
       "    function is_hive_command(list_tokens) {\n",
       "        return list_tokens.indexOf('hive') > -1 && \n",
       "             list_tokens.indexOf('f') > -1 &&\n",
       "             list_tokens.indexOf('-') > -1 && \n",
       "             list_tokens.indexOf('!') > -1 &&\n",
       "             list_tokens.indexOf('hql') > -1 && \n",
       "             list_tokens.indexOf('writefile') == -1;\n",
       "    } \n",
       "    \n",
       "    function collectText(input_tag) {\n",
       "\n",
       "        var result_string = [];\n",
       "        $.each($(input_tag).children(), function(index, child) {\n",
       "            result_string.push($(child).text());\n",
       "        });\n",
       "        return [result_string, is_hive_command(result_string)];\n",
       "    };\n",
       "    \n",
       "    var filtered_results = $(\".cell.code_cell.rendered\").filter(function(index, element) {\n",
       "        var out = collectText($(element).find('.CodeMirror-line').find('span'));\n",
       "        console.log(out);\n",
       "        return collectText($(element).find('.CodeMirror-line').find('span'))[1];\n",
       "    });\n",
       "    $(filtered_results).remove();\n",
       "});"
      ],
      "text/plain": [
       "<IPython.core.display.Javascript object>"
      ]
     },
     "metadata": {},
     "output_type": "display_data"
    }
   ],
   "source": [
    "%%javascript\n",
    "\n",
    "$(document).ready(function() {\n",
    "    console.log('Ready');\n",
    "    \n",
    "    \n",
    "    function is_hive_command(list_tokens) {\n",
    "        return list_tokens.indexOf('hive') > -1 && \n",
    "             list_tokens.indexOf('f') > -1 &&\n",
    "             list_tokens.indexOf('-') > -1 && \n",
    "             list_tokens.indexOf('!') > -1 &&\n",
    "             list_tokens.indexOf('hql') > -1 && \n",
    "             list_tokens.indexOf('writefile') == -1;\n",
    "    } \n",
    "    \n",
    "    function collectText(input_tag) {\n",
    "\n",
    "        var result_string = [];\n",
    "        $.each($(input_tag).children(), function(index, child) {\n",
    "            result_string.push($(child).text());\n",
    "        });\n",
    "        return [result_string, is_hive_command(result_string)];\n",
    "    };\n",
    "    \n",
    "    var filtered_results = $(\".cell.code_cell.rendered\").filter(function(index, element) {\n",
    "        var out = collectText($(element).find('.CodeMirror-line').find('span'));\n",
    "        console.log(out);\n",
    "        return collectText($(element).find('.CodeMirror-line').find('span'))[1];\n",
    "    });\n",
    "    $(filtered_results).remove();\n",
    "});"
   ]
  },
  {
   "cell_type": "code",
   "execution_count": 33,
   "metadata": {
    "colab": {
     "autoexec": {
      "startup": false,
      "wait_interval": 0
     }
    },
    "colab_type": "code",
    "id": "unTiTnY_J5uK"
   },
   "outputs": [
    {
     "name": "stdout",
     "output_type": "stream",
     "text": [
      "2008\t2008-2008-10\t73\n"
     ]
    },
    {
     "name": "stderr",
     "output_type": "stream",
     "text": [
      "\n",
      "Logging initialized using configuration in jar:file:/usr/local/apache-hive-1.1.0-bin/lib/hive-common-1.1.0.jar!/hive-log4j.properties\n",
      "OK\n",
      "Time taken: 1.134 seconds\n",
      "OK\n",
      "Time taken: 1.64 seconds\n",
      "OK\n",
      "Time taken: 0.648 seconds\n",
      "OK\n",
      "Time taken: 0.022 seconds\n",
      "OK\n",
      "Time taken: 3.721 seconds\n",
      "OK\n",
      "Time taken: 0.297 seconds\n",
      "OK\n",
      "Time taken: 0.016 seconds\n",
      "Query ID = jovyan_20181031112727_e122d179-6671-42de-baca-81a89abcdf82\n",
      "Total jobs = 3\n",
      "Launching Job 1 out of 3\n",
      "Number of reduce tasks is set to 0 since there's no reduce operator\n",
      "Starting Job = job_1540973220540_0005, Tracking URL = http://364f3ede5c74:8088/proxy/application_1540973220540_0005/\n",
      "Kill Command = /opt/hadoop/bin/hadoop job  -kill job_1540973220540_0005\n",
      "Hadoop job information for Stage-1: number of mappers: 1; number of reducers: 0\n",
      "2018-10-31 11:27:34,832 Stage-1 map = 0%,  reduce = 0%\n",
      "2018-10-31 11:27:53,197 Stage-1 map = 23%,  reduce = 0%, Cumulative CPU 18.55 sec\n",
      "2018-10-31 11:27:59,608 Stage-1 map = 37%,  reduce = 0%, Cumulative CPU 24.83 sec\n",
      "2018-10-31 11:28:04,952 Stage-1 map = 53%,  reduce = 0%, Cumulative CPU 30.99 sec\n",
      "2018-10-31 11:28:11,321 Stage-1 map = 70%,  reduce = 0%, Cumulative CPU 37.04 sec\n",
      "2018-10-31 11:28:17,679 Stage-1 map = 87%,  reduce = 0%, Cumulative CPU 43.21 sec\n",
      "2018-10-31 11:28:23,033 Stage-1 map = 100%,  reduce = 0%, Cumulative CPU 48.35 sec\n",
      "MapReduce Total cumulative CPU time: 48 seconds 350 msec\n",
      "Ended Job = job_1540973220540_0005\n",
      "Stage-4 is selected by condition resolver.\n",
      "Stage-3 is filtered out by condition resolver.\n",
      "Stage-5 is filtered out by condition resolver.\n",
      "Moving data to: hdfs://localhost:9000/user/jovyan/task1/.hive-staging_hive_2018-10-31_11-27-20_598_1687238099329390306-1/-ext-10000\n",
      "Loading data to table demodb.posts_sample partition (year=null, month=null)\n",
      "\t Time taken for load dynamic partitions : 11237\n",
      "\tLoading partition {year=2010, month=2010-03}\n",
      "\tLoading partition {year=2011, month=2011-02}\n",
      "\tLoading partition {year=2011, month=2011-08}\n",
      "\tLoading partition {year=2010, month=2010-09}\n",
      "\tLoading partition {year=2011, month=2011-11}\n",
      "\tLoading partition {year=2012, month=2012-01}\n",
      "\tLoading partition {year=2014, month=2014-06}\n",
      "\tLoading partition {year=2010, month=2010-12}\n",
      "\tLoading partition {year=2015, month=2015-05}\n",
      "\tLoading partition {year=2009, month=2009-04}\n",
      "\tLoading partition {year=2016, month=2016-04}\n",
      "\tLoading partition {year=2015, month=2015-04}\n",
      "\tLoading partition {year=2011, month=2011-09}\n",
      "\tLoading partition {year=2012, month=2012-02}\n",
      "\tLoading partition {year=2009, month=2009-03}\n",
      "\tLoading partition {year=2016, month=2016-03}\n",
      "\tLoading partition {year=2009, month=2009-09}\n",
      "\tLoading partition {year=2016, month=2016-09}\n",
      "\tLoading partition {year=2013, month=2013-07}\n",
      "\tLoading partition {year=2012, month=2012-08}\n",
      "\tLoading partition {year=2012, month=2012-07}\n",
      "\tLoading partition {year=2013, month=2013-01}\n",
      "\tLoading partition {year=2010, month=2010-04}\n",
      "\tLoading partition {year=2013, month=2013-06}\n",
      "\tLoading partition {year=2014, month=2014-05}\n",
      "\tLoading partition {year=2011, month=2011-03}\n",
      "\tLoading partition {year=2012, month=2012-12}\n",
      "\tLoading partition {year=2014, month=2014-04}\n",
      "\tLoading partition {year=2012, month=2012-09}\n",
      "\tLoading partition {year=2011, month=2011-10}\n",
      "\tLoading partition {year=2011, month=2011-01}\n",
      "\tLoading partition {year=2014, month=2014-07}\n",
      "\tLoading partition {year=2010, month=2010-08}\n",
      "\tLoading partition {year=2011, month=2011-04}\n",
      "\tLoading partition {year=2012, month=2012-06}\n",
      "\tLoading partition {year=2014, month=2014-10}\n",
      "\tLoading partition {year=2013, month=2013-02}\n",
      "\tLoading partition {year=2015, month=2015-07}\n",
      "\tLoading partition {year=2011, month=2011-06}\n",
      "\tLoading partition {year=2013, month=2013-04}\n",
      "\tLoading partition {year=2010, month=2010-01}\n",
      "\tLoading partition {year=2009, month=2009-11}\n",
      "\tLoading partition {year=2016, month=2016-11}\n",
      "\tLoading partition {year=2012, month=2012-10}\n",
      "\tLoading partition {year=2013, month=2013-10}\n",
      "\tLoading partition {year=2009, month=2009-05}\n",
      "\tLoading partition {year=2016, month=2016-05}\n",
      "\tLoading partition {year=2014, month=2014-02}\n",
      "\tLoading partition {year=2013, month=2013-09}\n",
      "\tLoading partition {year=2011, month=2011-12}\n",
      "\tLoading partition {year=2009, month=2009-10}\n",
      "\tLoading partition {year=2010, month=2010-06}\n",
      "\tLoading partition {year=2016, month=2016-10}\n",
      "\tLoading partition {year=2008, month=2008-11}\n",
      "\tLoading partition {year=2009, month=2009-07}\n",
      "\tLoading partition {year=2016, month=2016-07}\n",
      "\tLoading partition {year=2009, month=2009-01}\n",
      "\tLoading partition {year=2016, month=2016-01}\n",
      "\tLoading partition {year=2015, month=2015-11}\n",
      "\tLoading partition {year=2011, month=2011-05}\n",
      "\tLoading partition {year=2014, month=2014-12}\n",
      "\tLoading partition {year=2012, month=2012-04}\n",
      "\tLoading partition {year=2014, month=2014-09}\n",
      "\tLoading partition {year=2014, month=2014-03}\n",
      "\tLoading partition {year=2015, month=2015-02}\n",
      "\tLoading partition {year=2008, month=2008-08}\n",
      "\tLoading partition {year=2015, month=2015-08}\n",
      "\tLoading partition {year=2014, month=2014-11}\n",
      "\tLoading partition {year=2013, month=2013-12}\n",
      "\tLoading partition {year=2010, month=2010-10}\n",
      "\tLoading partition {year=2010, month=2010-05}\n",
      "\tLoading partition {year=2009, month=2009-02}\n",
      "\tLoading partition {year=2016, month=2016-02}\n",
      "\tLoading partition {year=2016, month=2016-08}\n",
      "\tLoading partition {year=2008, month=2008-09}\n",
      "\tLoading partition {year=2015, month=2015-09}\n",
      "\tLoading partition {year=2008, month=2008-10}\n",
      "\tLoading partition {year=2009, month=2009-08}\n",
      "\tLoading partition {year=2015, month=2015-10}\n",
      "\tLoading partition {year=2013, month=2013-05}\n",
      "\tLoading partition {year=2013, month=2013-08}\n",
      "\tLoading partition {year=2015, month=2015-03}\n",
      "\tLoading partition {year=2015, month=2015-06}\n",
      "\tLoading partition {year=2010, month=2010-11}\n",
      "\tLoading partition {year=2012, month=2012-03}\n",
      "\tLoading partition {year=2014, month=2014-01}\n",
      "\tLoading partition {year=2011, month=2011-07}\n",
      "\tLoading partition {year=2013, month=2013-11}\n",
      "\tLoading partition {year=2015, month=2015-01}\n",
      "\tLoading partition {year=2012, month=2012-05}\n",
      "\tLoading partition {year=2014, month=2014-08}\n",
      "\tLoading partition {year=2010, month=2010-02}\n",
      "\tLoading partition {year=2016, month=2016-06}\n",
      "\tLoading partition {year=2008, month=2008-12}\n",
      "\tLoading partition {year=2009, month=2009-06}\n",
      "\tLoading partition {year=2015, month=2015-12}\n",
      "\tLoading partition {year=2009, month=2009-12}\n",
      "\tLoading partition {year=2016, month=2016-12}\n",
      "\tLoading partition {year=2013, month=2013-03}\n",
      "\tLoading partition {year=2010, month=2010-07}\n",
      "\tLoading partition {year=2012, month=2012-11}\n",
      "\t Time taken for adding to write entity : 31\n",
      "Partition demodb.posts_sample{year=2008, month=2008-08} stats: [numFiles=1, numRows=23, totalSize=1178, rawDataSize=1155]\n",
      "Partition demodb.posts_sample{year=2008, month=2008-09} stats: [numFiles=1, numRows=89, totalSize=4792, rawDataSize=4703]\n",
      "Partition demodb.posts_sample{year=2008, month=2008-10} stats: [numFiles=1, numRows=73, totalSize=4051, rawDataSize=3978]\n",
      "Partition demodb.posts_sample{year=2008, month=2008-11} stats: [numFiles=1, numRows=54, totalSize=3155, rawDataSize=3101]\n",
      "Partition demodb.posts_sample{year=2008, month=2008-12} stats: [numFiles=1, numRows=51, totalSize=2944, rawDataSize=2893]\n",
      "Partition demodb.posts_sample{year=2009, month=2009-01} stats: [numFiles=1, numRows=84, totalSize=4715, rawDataSize=4631]\n",
      "Partition demodb.posts_sample{year=2009, month=2009-02} stats: [numFiles=1, numRows=84, totalSize=4741, rawDataSize=4657]\n",
      "Partition demodb.posts_sample{year=2009, month=2009-03} stats: [numFiles=1, numRows=85, totalSize=4945, rawDataSize=4860]\n",
      "Partition demodb.posts_sample{year=2009, month=2009-04} stats: [numFiles=1, numRows=97, totalSize=5699, rawDataSize=5602]\n",
      "Partition demodb.posts_sample{year=2009, month=2009-05} stats: [numFiles=1, numRows=111, totalSize=6515, rawDataSize=6404]\n",
      "Partition demodb.posts_sample{year=2009, month=2009-06} stats: [numFiles=1, numRows=120, totalSize=7125, rawDataSize=7005]\n",
      "Partition demodb.posts_sample{year=2009, month=2009-07} stats: [numFiles=1, numRows=133, totalSize=8121, rawDataSize=7988]\n",
      "Partition demodb.posts_sample{year=2009, month=2009-08} stats: [numFiles=1, numRows=129, totalSize=7649, rawDataSize=7520]\n",
      "Partition demodb.posts_sample{year=2009, month=2009-09} stats: [numFiles=1, numRows=128, totalSize=7735, rawDataSize=7607]\n",
      "Partition demodb.posts_sample{year=2009, month=2009-10} stats: [numFiles=1, numRows=133, totalSize=8016, rawDataSize=7883]\n",
      "Partition demodb.posts_sample{year=2009, month=2009-11} stats: [numFiles=1, numRows=149, totalSize=9097, rawDataSize=8948]\n",
      "Partition demodb.posts_sample{year=2009, month=2009-12} stats: [numFiles=1, numRows=147, totalSize=9064, rawDataSize=8917]\n",
      "Partition demodb.posts_sample{year=2010, month=2010-01} stats: [numFiles=1, numRows=175, totalSize=10638, rawDataSize=10463]\n",
      "Partition demodb.posts_sample{year=2010, month=2010-02} stats: [numFiles=1, numRows=162, totalSize=9976, rawDataSize=9814]\n",
      "Partition demodb.posts_sample{year=2010, month=2010-03} stats: [numFiles=1, numRows=190, totalSize=11818, rawDataSize=11628]\n",
      "Partition demodb.posts_sample{year=2010, month=2010-04} stats: [numFiles=1, numRows=179, totalSize=11344, rawDataSize=11165]\n",
      "Partition demodb.posts_sample{year=2010, month=2010-05} stats: [numFiles=1, numRows=168, totalSize=10323, rawDataSize=10155]\n",
      "Partition demodb.posts_sample{year=2010, month=2010-06} stats: [numFiles=1, numRows=201, totalSize=12426, rawDataSize=12225]\n",
      "Partition demodb.posts_sample{year=2010, month=2010-07} stats: [numFiles=1, numRows=209, totalSize=13346, rawDataSize=13137]\n",
      "Partition demodb.posts_sample{year=2010, month=2010-08} stats: [numFiles=1, numRows=212, totalSize=13284, rawDataSize=13072]\n",
      "Partition demodb.posts_sample{year=2010, month=2010-09} stats: [numFiles=1, numRows=208, totalSize=13249, rawDataSize=13041]\n",
      "Partition demodb.posts_sample{year=2010, month=2010-10} stats: [numFiles=1, numRows=222, totalSize=13610, rawDataSize=13388]\n",
      "Partition demodb.posts_sample{year=2010, month=2010-11} stats: [numFiles=1, numRows=236, totalSize=14783, rawDataSize=14547]\n",
      "Partition demodb.posts_sample{year=2010, month=2010-12} stats: [numFiles=1, numRows=237, totalSize=14751, rawDataSize=14514]\n",
      "Partition demodb.posts_sample{year=2011, month=2011-01} stats: [numFiles=1, numRows=276, totalSize=17390, rawDataSize=17114]\n",
      "Partition demodb.posts_sample{year=2011, month=2011-02} stats: [numFiles=1, numRows=273, totalSize=17242, rawDataSize=16969]\n",
      "Partition demodb.posts_sample{year=2011, month=2011-03} stats: [numFiles=1, numRows=349, totalSize=21697, rawDataSize=21348]\n",
      "Partition demodb.posts_sample{year=2011, month=2011-04} stats: [numFiles=1, numRows=321, totalSize=19943, rawDataSize=19622]\n",
      "Partition demodb.posts_sample{year=2011, month=2011-05} stats: [numFiles=1, numRows=327, totalSize=20732, rawDataSize=20405]\n",
      "Partition demodb.posts_sample{year=2011, month=2011-06} stats: [numFiles=1, numRows=340, totalSize=21296, rawDataSize=20956]\n",
      "Partition demodb.posts_sample{year=2011, month=2011-07} stats: [numFiles=1, numRows=335, totalSize=21064, rawDataSize=20729]\n",
      "Partition demodb.posts_sample{year=2011, month=2011-08} stats: [numFiles=1, numRows=362, totalSize=22790, rawDataSize=22428]\n",
      "Partition demodb.posts_sample{year=2011, month=2011-09} stats: [numFiles=1, numRows=343, totalSize=21821, rawDataSize=21478]\n",
      "Partition demodb.posts_sample{year=2011, month=2011-10} stats: [numFiles=1, numRows=331, totalSize=20874, rawDataSize=20543]\n",
      "Partition demodb.posts_sample{year=2011, month=2011-11} stats: [numFiles=1, numRows=361, totalSize=22954, rawDataSize=22593]\n",
      "Partition demodb.posts_sample{year=2011, month=2011-12} stats: [numFiles=1, numRows=350, totalSize=21915, rawDataSize=21565]\n",
      "Partition demodb.posts_sample{year=2012, month=2012-01} stats: [numFiles=1, numRows=377, totalSize=23567, rawDataSize=23190]\n",
      "Partition demodb.posts_sample{year=2012, month=2012-02} stats: [numFiles=1, numRows=412, totalSize=26526, rawDataSize=26114]\n",
      "Partition demodb.posts_sample{year=2012, month=2012-03} stats: [numFiles=1, numRows=432, totalSize=27499, rawDataSize=27067]\n",
      "Partition demodb.posts_sample{year=2012, month=2012-04} stats: [numFiles=1, numRows=412, totalSize=27076, rawDataSize=26664]\n",
      "Partition demodb.posts_sample{year=2012, month=2012-05} stats: [numFiles=1, numRows=429, totalSize=28111, rawDataSize=27682]\n",
      "Partition demodb.posts_sample{year=2012, month=2012-06} stats: [numFiles=1, numRows=412, totalSize=26712, rawDataSize=26300]\n",
      "Partition demodb.posts_sample{year=2012, month=2012-07} stats: [numFiles=1, numRows=445, totalSize=29689, rawDataSize=29244]\n",
      "Partition demodb.posts_sample{year=2012, month=2012-08} stats: [numFiles=1, numRows=445, totalSize=28794, rawDataSize=28349]\n",
      "Partition demodb.posts_sample{year=2012, month=2012-09} stats: [numFiles=1, numRows=399, totalSize=25980, rawDataSize=25581]\n",
      "Partition demodb.posts_sample{year=2012, month=2012-10} stats: [numFiles=1, numRows=469, totalSize=30790, rawDataSize=30321]\n",
      "Partition demodb.posts_sample{year=2012, month=2012-11} stats: [numFiles=1, numRows=438, totalSize=28600, rawDataSize=28162]\n",
      "Partition demodb.posts_sample{year=2012, month=2012-12} stats: [numFiles=1, numRows=415, totalSize=26530, rawDataSize=26115]\n",
      "Partition demodb.posts_sample{year=2013, month=2013-01} stats: [numFiles=1, numRows=484, totalSize=31054, rawDataSize=30570]\n",
      "Partition demodb.posts_sample{year=2013, month=2013-02} stats: [numFiles=1, numRows=474, totalSize=31168, rawDataSize=30694]\n",
      "Partition demodb.posts_sample{year=2013, month=2013-03} stats: [numFiles=1, numRows=533, totalSize=34913, rawDataSize=34380]\n",
      "Partition demodb.posts_sample{year=2013, month=2013-04} stats: [numFiles=1, numRows=529, totalSize=35180, rawDataSize=34651]\n",
      "Partition demodb.posts_sample{year=2013, month=2013-05} stats: [numFiles=1, numRows=520, totalSize=34065, rawDataSize=33545]\n",
      "Partition demodb.posts_sample{year=2013, month=2013-06} stats: [numFiles=1, numRows=477, totalSize=31585, rawDataSize=31108]\n",
      "Partition demodb.posts_sample{year=2013, month=2013-07} stats: [numFiles=1, numRows=550, totalSize=36525, rawDataSize=35975]\n",
      "Partition demodb.posts_sample{year=2013, month=2013-08} stats: [numFiles=1, numRows=531, totalSize=35090, rawDataSize=34559]\n",
      "Partition demodb.posts_sample{year=2013, month=2013-09} stats: [numFiles=1, numRows=511, totalSize=33999, rawDataSize=33488]\n",
      "Partition demodb.posts_sample{year=2013, month=2013-10} stats: [numFiles=1, numRows=570, totalSize=37097, rawDataSize=36527]\n",
      "Partition demodb.posts_sample{year=2013, month=2013-11} stats: [numFiles=1, numRows=543, totalSize=35683, rawDataSize=35140]\n",
      "Partition demodb.posts_sample{year=2013, month=2013-12} stats: [numFiles=1, numRows=513, totalSize=33877, rawDataSize=33364]\n",
      "Partition demodb.posts_sample{year=2014, month=2014-01} stats: [numFiles=1, numRows=595, totalSize=39791, rawDataSize=39196]\n",
      "Partition demodb.posts_sample{year=2014, month=2014-02} stats: [numFiles=1, numRows=585, totalSize=38872, rawDataSize=38287]\n",
      "Partition demodb.posts_sample{year=2014, month=2014-03} stats: [numFiles=1, numRows=624, totalSize=41264, rawDataSize=40640]\n",
      "Partition demodb.posts_sample{year=2014, month=2014-04} stats: [numFiles=1, numRows=593, totalSize=39375, rawDataSize=38782]\n",
      "Partition demodb.posts_sample{year=2014, month=2014-05} stats: [numFiles=1, numRows=541, totalSize=35449, rawDataSize=34908]\n",
      "Partition demodb.posts_sample{year=2014, month=2014-06} stats: [numFiles=1, numRows=487, totalSize=32778, rawDataSize=32291]\n",
      "Partition demodb.posts_sample{year=2014, month=2014-07} stats: [numFiles=1, numRows=536, totalSize=35760, rawDataSize=35224]\n",
      "Partition demodb.posts_sample{year=2014, month=2014-08} stats: [numFiles=1, numRows=495, totalSize=32761, rawDataSize=32266]\n",
      "Partition demodb.posts_sample{year=2014, month=2014-09} stats: [numFiles=1, numRows=502, totalSize=33398, rawDataSize=32896]\n",
      "Partition demodb.posts_sample{year=2014, month=2014-10} stats: [numFiles=1, numRows=527, totalSize=35263, rawDataSize=34736]\n",
      "Partition demodb.posts_sample{year=2014, month=2014-11} stats: [numFiles=1, numRows=501, totalSize=33630, rawDataSize=33129]\n",
      "Partition demodb.posts_sample{year=2014, month=2014-12} stats: [numFiles=1, numRows=482, totalSize=32661, rawDataSize=32179]\n",
      "Partition demodb.posts_sample{year=2015, month=2015-01} stats: [numFiles=1, numRows=502, totalSize=33302, rawDataSize=32800]\n",
      "Partition demodb.posts_sample{year=2015, month=2015-02} stats: [numFiles=1, numRows=506, totalSize=33825, rawDataSize=33319]\n",
      "Partition demodb.posts_sample{year=2015, month=2015-03} stats: [numFiles=1, numRows=568, totalSize=37936, rawDataSize=37368]\n",
      "Partition demodb.posts_sample{year=2015, month=2015-04} stats: [numFiles=1, numRows=581, totalSize=38146, rawDataSize=37565]\n",
      "Partition demodb.posts_sample{year=2015, month=2015-05} stats: [numFiles=1, numRows=566, totalSize=37650, rawDataSize=37084]\n",
      "Partition demodb.posts_sample{year=2015, month=2015-06} stats: [numFiles=1, numRows=570, totalSize=38242, rawDataSize=37672]\n",
      "Partition demodb.posts_sample{year=2015, month=2015-07} stats: [numFiles=1, numRows=585, totalSize=39723, rawDataSize=39138]\n",
      "Partition demodb.posts_sample{year=2015, month=2015-08} stats: [numFiles=1, numRows=554, totalSize=37313, rawDataSize=36759]\n",
      "Partition demodb.posts_sample{year=2015, month=2015-09} stats: [numFiles=1, numRows=536, totalSize=35932, rawDataSize=35396]\n",
      "Partition demodb.posts_sample{year=2015, month=2015-10} stats: [numFiles=1, numRows=561, totalSize=38269, rawDataSize=37708]\n",
      "Partition demodb.posts_sample{year=2015, month=2015-11} stats: [numFiles=1, numRows=529, totalSize=35387, rawDataSize=34858]\n",
      "Partition demodb.posts_sample{year=2015, month=2015-12} stats: [numFiles=1, numRows=537, totalSize=35897, rawDataSize=35360]\n",
      "Partition demodb.posts_sample{year=2016, month=2016-01} stats: [numFiles=1, numRows=582, totalSize=39373, rawDataSize=38791]\n",
      "Partition demodb.posts_sample{year=2016, month=2016-02} stats: [numFiles=1, numRows=592, totalSize=39969, rawDataSize=39377]\n",
      "Partition demodb.posts_sample{year=2016, month=2016-03} stats: [numFiles=1, numRows=638, totalSize=43199, rawDataSize=42561]\n",
      "Partition demodb.posts_sample{year=2016, month=2016-04} stats: [numFiles=1, numRows=619, totalSize=41615, rawDataSize=40996]\n",
      "Partition demodb.posts_sample{year=2016, month=2016-05} stats: [numFiles=1, numRows=603, totalSize=40071, rawDataSize=39468]\n",
      "Partition demodb.posts_sample{year=2016, month=2016-06} stats: [numFiles=1, numRows=584, totalSize=39197, rawDataSize=38613]\n",
      "Partition demodb.posts_sample{year=2016, month=2016-07} stats: [numFiles=1, numRows=562, totalSize=38345, rawDataSize=37783]\n",
      "Partition demodb.posts_sample{year=2016, month=2016-08} stats: [numFiles=1, numRows=571, totalSize=38792, rawDataSize=38221]\n",
      "Partition demodb.posts_sample{year=2016, month=2016-09} stats: [numFiles=1, numRows=545, totalSize=36860, rawDataSize=36315]\n",
      "Partition demodb.posts_sample{year=2016, month=2016-10} stats: [numFiles=1, numRows=554, totalSize=37928, rawDataSize=37374]\n",
      "Partition demodb.posts_sample{year=2016, month=2016-11} stats: [numFiles=1, numRows=562, totalSize=38691, rawDataSize=38129]\n",
      "Partition demodb.posts_sample{year=2016, month=2016-12} stats: [numFiles=1, numRows=195, totalSize=13211, rawDataSize=13016]\n",
      "MapReduce Jobs Launched: \n",
      "Stage-Stage-1: Map: 1   Cumulative CPU: 49.91 sec   HDFS Read: 60005285 HDFS Write: 2565469 SUCCESS\n",
      "Total MapReduce CPU Time Spent: 49 seconds 910 msec\n",
      "OK\n",
      "Time taken: 95.728 seconds\n",
      "Added [/opt/cloudera/parcels/CDH/lib/hive/lib/hive-contrib.jar] to class path\n",
      "Added resources: [/opt/cloudera/parcels/CDH/lib/hive/lib/hive-contrib.jar]\n",
      "OK\n",
      "Time taken: 0.017 seconds\n",
      "Query ID = jovyan_20181031112828_0e4f485e-9bda-435d-bac4-ec4b37a9349e\n",
      "Total jobs = 2\n",
      "Launching Job 1 out of 2\n",
      "Number of reduce tasks not specified. Estimated from input data size: 1\n",
      "In order to change the average load for a reducer (in bytes):\n",
      "  set hive.exec.reducers.bytes.per.reducer=<number>\n",
      "In order to limit the maximum number of reducers:\n",
      "  set hive.exec.reducers.max=<number>\n",
      "In order to set a constant number of reducers:\n",
      "  set mapreduce.job.reduces=<number>\n",
      "Starting Job = job_1540973220540_0006, Tracking URL = http://364f3ede5c74:8088/proxy/application_1540973220540_0006/\n",
      "Kill Command = /opt/hadoop/bin/hadoop job  -kill job_1540973220540_0006\n",
      "Hadoop job information for Stage-1: number of mappers: 1; number of reducers: 1\n",
      "2018-10-31 11:29:09,738 Stage-1 map = 0%,  reduce = 0%\n",
      "2018-10-31 11:29:18,362 Stage-1 map = 100%,  reduce = 0%, Cumulative CPU 6.14 sec\n",
      "2018-10-31 11:29:27,942 Stage-1 map = 100%,  reduce = 100%, Cumulative CPU 10.19 sec\n",
      "MapReduce Total cumulative CPU time: 10 seconds 190 msec\n",
      "Ended Job = job_1540973220540_0006\n",
      "Launching Job 2 out of 2\n",
      "Number of reduce tasks not specified. Estimated from input data size: 1\n",
      "In order to change the average load for a reducer (in bytes):\n",
      "  set hive.exec.reducers.bytes.per.reducer=<number>\n",
      "In order to limit the maximum number of reducers:\n",
      "  set hive.exec.reducers.max=<number>\n",
      "In order to set a constant number of reducers:\n",
      "  set mapreduce.job.reduces=<number>\n",
      "Starting Job = job_1540973220540_0007, Tracking URL = http://364f3ede5c74:8088/proxy/application_1540973220540_0007/\n",
      "Kill Command = /opt/hadoop/bin/hadoop job  -kill job_1540973220540_0007\n",
      "Hadoop job information for Stage-2: number of mappers: 1; number of reducers: 1\n",
      "2018-10-31 11:29:45,212 Stage-2 map = 0%,  reduce = 0%\n",
      "2018-10-31 11:29:52,818 Stage-2 map = 100%,  reduce = 0%, Cumulative CPU 3.22 sec\n",
      "2018-10-31 11:30:02,446 Stage-2 map = 100%,  reduce = 100%, Cumulative CPU 8.91 sec\n",
      "MapReduce Total cumulative CPU time: 8 seconds 910 msec\n",
      "Ended Job = job_1540973220540_0007\n",
      "MapReduce Jobs Launched: \n",
      "Stage-Stage-1: Map: 1  Reduce: 1   Cumulative CPU: 10.19 sec   HDFS Read: 2602141 HDFS Write: 3408 SUCCESS\n",
      "Stage-Stage-2: Map: 1  Reduce: 1   Cumulative CPU: 8.91 sec   HDFS Read: 10769 HDFS Write: 21 SUCCESS\n",
      "Total MapReduce CPU Time Spent: 19 seconds 100 msec\n",
      "OK\n",
      "Time taken: 68.273 seconds, Fetched: 1 row(s)\n"
     ]
    }
   ],
   "source": [
    "%%bash\n",
    "hive -f task1.hql"
   ]
  },
  {
   "cell_type": "markdown",
   "metadata": {
    "colab_type": "text",
    "id": "OwS_Hbx3J5uL"
   },
   "source": [
    "Congratulations! You have completed the assignment! Now you can submit it to the system and get your results!\n",
    "\n",
    "Copy your notebook from the steps <a href=\"#Step-4.-Complete-the-assignment\">Step 4</a> and <a href=\"#Step-5.-Submission-part.-Do-not-touch!!-And-simple-run-all-cells-below!\">Step 5</a> to the new notebook. Run all the cells! And submit the copied notebook!"
   ]
  }
 ],
 "metadata": {
  "colab": {
   "collapsed_sections": [],
   "default_view": {},
   "name": "901_to_students.ipynb",
   "provenance": [],
   "toc_visible": true,
   "version": "0.3.2",
   "views": {}
  },
  "kernelspec": {
   "display_name": "Python 2",
   "language": "python",
   "name": "python2"
  },
  "language_info": {
   "codemirror_mode": {
    "name": "ipython",
    "version": 2
   },
   "file_extension": ".py",
   "mimetype": "text/x-python",
   "name": "python",
   "nbconvert_exporter": "python",
   "pygments_lexer": "ipython2",
   "version": "2.7.15+"
  }
 },
 "nbformat": 4,
 "nbformat_minor": 1
}
